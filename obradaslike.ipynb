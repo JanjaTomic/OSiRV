{
  "nbformat": 4,
  "nbformat_minor": 0,
  "metadata": {
    "colab": {
      "provenance": [],
      "gpuType": "T4",
      "authorship_tag": "ABX9TyOUuYcgAmo1Ja86Zg6wtHjB",
      "include_colab_link": true
    },
    "kernelspec": {
      "name": "python3",
      "display_name": "Python 3"
    },
    "language_info": {
      "name": "python"
    },
    "accelerator": "GPU"
  },
  "cells": [
    {
      "cell_type": "markdown",
      "metadata": {
        "id": "view-in-github",
        "colab_type": "text"
      },
      "source": [
        "<a href=\"https://colab.research.google.com/github/JanjaTomic/OSiRV/blob/main/obradaslike.ipynb\" target=\"_parent\"><img src=\"https://colab.research.google.com/assets/colab-badge.svg\" alt=\"Open In Colab\"/></a>"
      ]
    },
    {
      "cell_type": "code",
      "execution_count": null,
      "metadata": {
        "colab": {
          "base_uri": "https://localhost:8080/"
        },
        "id": "WoaLrlnZ8dLm",
        "outputId": "0252be6d-4cfa-4950-dc73-aae09b8ebff8"
      },
      "outputs": [
        {
          "output_type": "stream",
          "name": "stdout",
          "text": [
            "Requirement already satisfied: kaggle in /usr/local/lib/python3.10/dist-packages (1.5.16)\n",
            "Requirement already satisfied: six>=1.10 in /usr/local/lib/python3.10/dist-packages (from kaggle) (1.16.0)\n",
            "Requirement already satisfied: certifi in /usr/local/lib/python3.10/dist-packages (from kaggle) (2024.2.2)\n",
            "Requirement already satisfied: python-dateutil in /usr/local/lib/python3.10/dist-packages (from kaggle) (2.8.2)\n",
            "Requirement already satisfied: requests in /usr/local/lib/python3.10/dist-packages (from kaggle) (2.31.0)\n",
            "Requirement already satisfied: tqdm in /usr/local/lib/python3.10/dist-packages (from kaggle) (4.66.2)\n",
            "Requirement already satisfied: python-slugify in /usr/local/lib/python3.10/dist-packages (from kaggle) (8.0.4)\n",
            "Requirement already satisfied: urllib3 in /usr/local/lib/python3.10/dist-packages (from kaggle) (2.0.7)\n",
            "Requirement already satisfied: bleach in /usr/local/lib/python3.10/dist-packages (from kaggle) (6.1.0)\n",
            "Requirement already satisfied: webencodings in /usr/local/lib/python3.10/dist-packages (from bleach->kaggle) (0.5.1)\n",
            "Requirement already satisfied: text-unidecode>=1.3 in /usr/local/lib/python3.10/dist-packages (from python-slugify->kaggle) (1.3)\n",
            "Requirement already satisfied: charset-normalizer<4,>=2 in /usr/local/lib/python3.10/dist-packages (from requests->kaggle) (3.3.2)\n",
            "Requirement already satisfied: idna<4,>=2.5 in /usr/local/lib/python3.10/dist-packages (from requests->kaggle) (3.6)\n"
          ]
        }
      ],
      "source": [
        "! pip install kaggle"
      ]
    },
    {
      "cell_type": "code",
      "source": [
        "import numpy as np\n",
        "import pandas as pd\n",
        "import matplotlib.pyplot as plt\n",
        "from keras.models import Sequential\n",
        "from keras.layers import Dense, Flatten, Conv2D, MaxPooling2D, Input\n",
        "from keras.preprocessing.image import ImageDataGenerator\n",
        "from sklearn.model_selection import train_test_split\n",
        "from sklearn.metrics import accuracy_score\n",
        "from skimage import io, color, filters\n",
        "from skimage.transform import resize\n",
        "import zipfile\n",
        "from google.colab import files\n",
        "import os\n",
        "from keras.applications import VGG16\n",
        "from keras.optimizers import Adam\n",
        "from keras.models import Model\n",
        "from keras.utils import to_categorical\n",
        "from keras.applications.vgg16 import preprocess_input\n",
        "from skimage import io, color, filters, feature\n",
        "import cv2\n",
        "from google.colab.patches import cv2_imshow"
      ],
      "metadata": {
        "id": "7tkN6Fdy8ly8"
      },
      "execution_count": null,
      "outputs": []
    },
    {
      "cell_type": "code",
      "source": [
        "uploaded = files.upload()\n",
        "\n",
        "source_path = '/content/kaggle.json'\n",
        "destination_path = '/root/.kaggle/kaggle.json'\n",
        "kaggle_dir = '/root/.kaggle/'\n",
        "if not os.path.exists(kaggle_dir):\n",
        "    os.makedirs(kaggle_dir)\n",
        "os.rename(source_path, destination_path)"
      ],
      "metadata": {
        "colab": {
          "base_uri": "https://localhost:8080/",
          "height": 73
        },
        "id": "HgKm_fbU-6O4",
        "outputId": "e3e388a8-00d9-4978-8eb0-d87eb539d7ac"
      },
      "execution_count": null,
      "outputs": [
        {
          "output_type": "display_data",
          "data": {
            "text/plain": [
              "<IPython.core.display.HTML object>"
            ],
            "text/html": [
              "\n",
              "     <input type=\"file\" id=\"files-62872143-6ebc-4f6d-80e7-13b0b62fe6db\" name=\"files[]\" multiple disabled\n",
              "        style=\"border:none\" />\n",
              "     <output id=\"result-62872143-6ebc-4f6d-80e7-13b0b62fe6db\">\n",
              "      Upload widget is only available when the cell has been executed in the\n",
              "      current browser session. Please rerun this cell to enable.\n",
              "      </output>\n",
              "      <script>// Copyright 2017 Google LLC\n",
              "//\n",
              "// Licensed under the Apache License, Version 2.0 (the \"License\");\n",
              "// you may not use this file except in compliance with the License.\n",
              "// You may obtain a copy of the License at\n",
              "//\n",
              "//      http://www.apache.org/licenses/LICENSE-2.0\n",
              "//\n",
              "// Unless required by applicable law or agreed to in writing, software\n",
              "// distributed under the License is distributed on an \"AS IS\" BASIS,\n",
              "// WITHOUT WARRANTIES OR CONDITIONS OF ANY KIND, either express or implied.\n",
              "// See the License for the specific language governing permissions and\n",
              "// limitations under the License.\n",
              "\n",
              "/**\n",
              " * @fileoverview Helpers for google.colab Python module.\n",
              " */\n",
              "(function(scope) {\n",
              "function span(text, styleAttributes = {}) {\n",
              "  const element = document.createElement('span');\n",
              "  element.textContent = text;\n",
              "  for (const key of Object.keys(styleAttributes)) {\n",
              "    element.style[key] = styleAttributes[key];\n",
              "  }\n",
              "  return element;\n",
              "}\n",
              "\n",
              "// Max number of bytes which will be uploaded at a time.\n",
              "const MAX_PAYLOAD_SIZE = 100 * 1024;\n",
              "\n",
              "function _uploadFiles(inputId, outputId) {\n",
              "  const steps = uploadFilesStep(inputId, outputId);\n",
              "  const outputElement = document.getElementById(outputId);\n",
              "  // Cache steps on the outputElement to make it available for the next call\n",
              "  // to uploadFilesContinue from Python.\n",
              "  outputElement.steps = steps;\n",
              "\n",
              "  return _uploadFilesContinue(outputId);\n",
              "}\n",
              "\n",
              "// This is roughly an async generator (not supported in the browser yet),\n",
              "// where there are multiple asynchronous steps and the Python side is going\n",
              "// to poll for completion of each step.\n",
              "// This uses a Promise to block the python side on completion of each step,\n",
              "// then passes the result of the previous step as the input to the next step.\n",
              "function _uploadFilesContinue(outputId) {\n",
              "  const outputElement = document.getElementById(outputId);\n",
              "  const steps = outputElement.steps;\n",
              "\n",
              "  const next = steps.next(outputElement.lastPromiseValue);\n",
              "  return Promise.resolve(next.value.promise).then((value) => {\n",
              "    // Cache the last promise value to make it available to the next\n",
              "    // step of the generator.\n",
              "    outputElement.lastPromiseValue = value;\n",
              "    return next.value.response;\n",
              "  });\n",
              "}\n",
              "\n",
              "/**\n",
              " * Generator function which is called between each async step of the upload\n",
              " * process.\n",
              " * @param {string} inputId Element ID of the input file picker element.\n",
              " * @param {string} outputId Element ID of the output display.\n",
              " * @return {!Iterable<!Object>} Iterable of next steps.\n",
              " */\n",
              "function* uploadFilesStep(inputId, outputId) {\n",
              "  const inputElement = document.getElementById(inputId);\n",
              "  inputElement.disabled = false;\n",
              "\n",
              "  const outputElement = document.getElementById(outputId);\n",
              "  outputElement.innerHTML = '';\n",
              "\n",
              "  const pickedPromise = new Promise((resolve) => {\n",
              "    inputElement.addEventListener('change', (e) => {\n",
              "      resolve(e.target.files);\n",
              "    });\n",
              "  });\n",
              "\n",
              "  const cancel = document.createElement('button');\n",
              "  inputElement.parentElement.appendChild(cancel);\n",
              "  cancel.textContent = 'Cancel upload';\n",
              "  const cancelPromise = new Promise((resolve) => {\n",
              "    cancel.onclick = () => {\n",
              "      resolve(null);\n",
              "    };\n",
              "  });\n",
              "\n",
              "  // Wait for the user to pick the files.\n",
              "  const files = yield {\n",
              "    promise: Promise.race([pickedPromise, cancelPromise]),\n",
              "    response: {\n",
              "      action: 'starting',\n",
              "    }\n",
              "  };\n",
              "\n",
              "  cancel.remove();\n",
              "\n",
              "  // Disable the input element since further picks are not allowed.\n",
              "  inputElement.disabled = true;\n",
              "\n",
              "  if (!files) {\n",
              "    return {\n",
              "      response: {\n",
              "        action: 'complete',\n",
              "      }\n",
              "    };\n",
              "  }\n",
              "\n",
              "  for (const file of files) {\n",
              "    const li = document.createElement('li');\n",
              "    li.append(span(file.name, {fontWeight: 'bold'}));\n",
              "    li.append(span(\n",
              "        `(${file.type || 'n/a'}) - ${file.size} bytes, ` +\n",
              "        `last modified: ${\n",
              "            file.lastModifiedDate ? file.lastModifiedDate.toLocaleDateString() :\n",
              "                                    'n/a'} - `));\n",
              "    const percent = span('0% done');\n",
              "    li.appendChild(percent);\n",
              "\n",
              "    outputElement.appendChild(li);\n",
              "\n",
              "    const fileDataPromise = new Promise((resolve) => {\n",
              "      const reader = new FileReader();\n",
              "      reader.onload = (e) => {\n",
              "        resolve(e.target.result);\n",
              "      };\n",
              "      reader.readAsArrayBuffer(file);\n",
              "    });\n",
              "    // Wait for the data to be ready.\n",
              "    let fileData = yield {\n",
              "      promise: fileDataPromise,\n",
              "      response: {\n",
              "        action: 'continue',\n",
              "      }\n",
              "    };\n",
              "\n",
              "    // Use a chunked sending to avoid message size limits. See b/62115660.\n",
              "    let position = 0;\n",
              "    do {\n",
              "      const length = Math.min(fileData.byteLength - position, MAX_PAYLOAD_SIZE);\n",
              "      const chunk = new Uint8Array(fileData, position, length);\n",
              "      position += length;\n",
              "\n",
              "      const base64 = btoa(String.fromCharCode.apply(null, chunk));\n",
              "      yield {\n",
              "        response: {\n",
              "          action: 'append',\n",
              "          file: file.name,\n",
              "          data: base64,\n",
              "        },\n",
              "      };\n",
              "\n",
              "      let percentDone = fileData.byteLength === 0 ?\n",
              "          100 :\n",
              "          Math.round((position / fileData.byteLength) * 100);\n",
              "      percent.textContent = `${percentDone}% done`;\n",
              "\n",
              "    } while (position < fileData.byteLength);\n",
              "  }\n",
              "\n",
              "  // All done.\n",
              "  yield {\n",
              "    response: {\n",
              "      action: 'complete',\n",
              "    }\n",
              "  };\n",
              "}\n",
              "\n",
              "scope.google = scope.google || {};\n",
              "scope.google.colab = scope.google.colab || {};\n",
              "scope.google.colab._files = {\n",
              "  _uploadFiles,\n",
              "  _uploadFilesContinue,\n",
              "};\n",
              "})(self);\n",
              "</script> "
            ]
          },
          "metadata": {}
        },
        {
          "output_type": "stream",
          "name": "stdout",
          "text": [
            "Saving kaggle.json to kaggle.json\n"
          ]
        }
      ]
    },
    {
      "cell_type": "code",
      "source": [
        "! kaggle datasets download -d landlord/handwriting-recognition"
      ],
      "metadata": {
        "colab": {
          "base_uri": "https://localhost:8080/"
        },
        "id": "NjtZwa9aCWFH",
        "outputId": "096c2085-6227-4016-fcd6-2fefef90a56f"
      },
      "execution_count": null,
      "outputs": [
        {
          "output_type": "stream",
          "name": "stdout",
          "text": [
            "Warning: Your Kaggle API key is readable by other users on this system! To fix this, you can run 'chmod 600 /root/.kaggle/kaggle.json'\n",
            "Downloading handwriting-recognition.zip to /content\n",
            " 99% 1.25G/1.26G [00:16<00:00, 94.3MB/s]\n",
            "100% 1.26G/1.26G [00:16<00:00, 80.2MB/s]\n"
          ]
        }
      ]
    },
    {
      "cell_type": "code",
      "source": [
        "with zipfile.ZipFile('/content/handwriting-recognition.zip', 'r') as zip_ref:\n",
        "  zip_ref.extractall('/content')"
      ],
      "metadata": {
        "id": "2mYHITDnDqZr"
      },
      "execution_count": null,
      "outputs": []
    },
    {
      "cell_type": "code",
      "source": [
        "train_dir = \"/content/train_v2/train/\"\n",
        "test_dir = \"/content/test_v2/test/\"\n",
        "validation_dir = \"/content/validation_v2/validation/\""
      ],
      "metadata": {
        "id": "GC5rKg1jLeMw"
      },
      "execution_count": null,
      "outputs": []
    },
    {
      "cell_type": "code",
      "source": [
        "def load_image_paths_from_directory(directory, max_images=100000):\n",
        "    image_filepaths = []\n",
        "    count = 0\n",
        "    filenames = os.listdir(directory)\n",
        "    filenames.sort()\n",
        "\n",
        "    for filename in filenames:\n",
        "        if filename.endswith(\".jpg\") or filename.endswith(\".png\"):\n",
        "            filepath = os.path.join(directory, filename)\n",
        "            image_filepaths.append(filepath)\n",
        "            count += 1\n",
        "            if count >= max_images:\n",
        "                break\n",
        "\n",
        "    return image_filepaths"
      ],
      "metadata": {
        "id": "-A2IVy5_imkG"
      },
      "execution_count": null,
      "outputs": []
    },
    {
      "cell_type": "code",
      "source": [
        "def load_image(image_path):\n",
        "    image = cv2.imread(image_path)\n",
        "\n",
        "    if image is not None:\n",
        "        if image.shape[0] > 25:\n",
        "            cropped_image = image[5:, :, :]\n",
        "        else:\n",
        "            cropped_image = image\n",
        "\n",
        "    return cropped_image"
      ],
      "metadata": {
        "id": "PeRwb19ib2Yo"
      },
      "execution_count": null,
      "outputs": []
    },
    {
      "cell_type": "code",
      "source": [
        "def segment_letters(image_path):\n",
        "\n",
        "    image = load_image(image_path)\n",
        "\n",
        "    gray = cv2.cvtColor(image, cv2.COLOR_BGR2GRAY)\n",
        "\n",
        "    blurred = cv2.GaussianBlur(gray, (5, 5), 0)\n",
        "    binary = cv2.adaptiveThreshold(blurred, 255, cv2.ADAPTIVE_THRESH_GAUSSIAN_C, cv2.THRESH_BINARY_INV, 11, 2)\n",
        "\n",
        "    kernel = np.ones((3, 3), np.uint8)\n",
        "    binary = cv2.morphologyEx(binary, cv2.MORPH_CLOSE, kernel)\n",
        "\n",
        "    contours, _ = cv2.findContours(binary, cv2.RETR_EXTERNAL, cv2.CHAIN_APPROX_SIMPLE)\n",
        "\n",
        "    contours = sorted(contours, key=lambda c: cv2.boundingRect(c)[0])\n",
        "\n",
        "    letter_images = []\n",
        "\n",
        "    for contour in contours:\n",
        "        x, y, w, h = cv2.boundingRect(contour)\n",
        "\n",
        "        if 130 > cv2.contourArea(contour) > 30 and h > 5 and w > 3 and w < 30:\n",
        "            letter = gray[y:y+h, x:x+w]\n",
        "            letter = cv2.resize(letter, (32, 32))\n",
        "            letter_images.append(letter)\n",
        "\n",
        "    return letter_images"
      ],
      "metadata": {
        "id": "Xjd8Xgxpb3Cn"
      },
      "execution_count": null,
      "outputs": []
    },
    {
      "cell_type": "code",
      "source": [
        "def segment_letters_in_array(image_array, word_list):\n",
        "    segmented_letters_array = []\n",
        "    connected_words = []\n",
        "\n",
        "    for image, word in zip(image_array, word_list):\n",
        "        word_validity = True\n",
        "        letter_images = segment_letters(image)\n",
        "        if word and word != \"UNREADABLE\" and isinstance(word, str):\n",
        "          word = word.replace(\" \",\"\")\n",
        "          word = word.upper()\n",
        "          for letter in word:\n",
        "            if letter == \"-\" or letter == \"%\" or letter == \"&\":\n",
        "              word_validity = False\n",
        "          if len(word) == len(letter_images) and word_validity:\n",
        "            segmented_letters_array.extend(letter_images)\n",
        "            connected_words.extend(word)\n",
        "\n",
        "    return segmented_letters_array, connected_words"
      ],
      "metadata": {
        "id": "aDkt15hdb5Jq"
      },
      "execution_count": null,
      "outputs": []
    },
    {
      "cell_type": "code",
      "source": [
        "def display_acc_graph(history):\n",
        "    acc = history.history[\"accuracy\"]\n",
        "    val_acc = history.history[\"val_accuracy\"]\n",
        "    epochs = range(len(acc))\n",
        "    plt.plot(epochs, acc, 'b', label=\"Training Accuracy\")\n",
        "    plt.plot(epochs, val_acc, 'r', label=\"Validation Accuracy\")\n",
        "    plt.title(\"Accuracy Graph\")\n",
        "    plt.legend()\n",
        "    plt.figure()\n",
        "\n",
        "def display_loss_graph(history):\n",
        "    loss = history.history[\"loss\"]\n",
        "    val_loss = history.history[\"val_loss\"]\n",
        "    epochs = range(len(loss))\n",
        "    plt.plot(epochs, loss, 'b', label=\"Training Loss\")\n",
        "    plt.plot(epochs, val_loss, 'r', label=\"Validation Loss\")\n",
        "    plt.title(\"Loss Graph\")\n",
        "    plt.legend()\n",
        "    plt.show()"
      ],
      "metadata": {
        "id": "7Fy6MJMlb7gn"
      },
      "execution_count": null,
      "outputs": []
    },
    {
      "cell_type": "code",
      "source": [
        "def display_segmented_letters(segmented_letters):\n",
        "    num_images = len(segmented_letters)\n",
        "    num_cols = 8\n",
        "    num_rows = (num_images + num_cols - 1) // num_cols\n",
        "\n",
        "    fig, axes = plt.subplots(num_rows, num_cols, figsize=(12, 8))\n",
        "\n",
        "    if num_rows == 1:\n",
        "        axes = axes.reshape(1, -1)\n",
        "    if num_cols == 1:\n",
        "        axes = axes.reshape(-1, 1)\n",
        "\n",
        "    for i, letter in enumerate(segmented_letters):\n",
        "        ax = axes[i // num_cols, i % num_cols]\n",
        "        ax.imshow(letter, cmap='gray')\n",
        "        ax.axis('off')\n",
        "\n",
        "    for j in range(i + 1, num_rows * num_cols):\n",
        "        axes[j // num_cols, j % num_cols].axis('off')\n",
        "\n",
        "    plt.show()"
      ],
      "metadata": {
        "id": "4zEy5eFgb9yb"
      },
      "execution_count": null,
      "outputs": []
    },
    {
      "cell_type": "code",
      "source": [
        "df_train = pd.read_csv('/content/written_name_train_v2.csv')"
      ],
      "metadata": {
        "id": "EQ-2w-XXb_tT"
      },
      "execution_count": null,
      "outputs": []
    },
    {
      "cell_type": "code",
      "source": [
        "df_val = pd.read_csv('/content/written_name_validation_v2.csv')"
      ],
      "metadata": {
        "id": "gAkOS-kTx-0p"
      },
      "execution_count": null,
      "outputs": []
    },
    {
      "cell_type": "code",
      "source": [
        "trainNum = 50000\n",
        "valNum = 10000"
      ],
      "metadata": {
        "id": "-r6wjuI1yBNx"
      },
      "execution_count": null,
      "outputs": []
    },
    {
      "cell_type": "code",
      "source": [
        "word_list_train = df_train['IDENTITY'][:trainNum]\n",
        "image_paths_train = load_image_paths_from_directory(train_dir, trainNum)"
      ],
      "metadata": {
        "id": "EpYVGk7rcHiR"
      },
      "execution_count": null,
      "outputs": []
    },
    {
      "cell_type": "code",
      "source": [
        "word_list_val = df_val['IDENTITY'][:valNum]\n",
        "image_paths_val = load_image_paths_from_directory(validation_dir, valNum)"
      ],
      "metadata": {
        "id": "SWrZtMpdyIqA"
      },
      "execution_count": null,
      "outputs": []
    },
    {
      "cell_type": "code",
      "source": [
        "segmented_letters_train, connected_words_train = segment_letters_in_array(image_paths_train, word_list_train)"
      ],
      "metadata": {
        "id": "EU3TjlahcNG-"
      },
      "execution_count": null,
      "outputs": []
    },
    {
      "cell_type": "code",
      "source": [
        "segmented_letters_val, connected_words_val = segment_letters_in_array(image_paths_val, word_list_val)"
      ],
      "metadata": {
        "id": "gETRiZ-IyRMP"
      },
      "execution_count": null,
      "outputs": []
    },
    {
      "cell_type": "code",
      "source": [
        "print(len(connected_words_train))\n",
        "print(len(segmented_letters_train))"
      ],
      "metadata": {
        "id": "IOLw5yDrcPQn"
      },
      "execution_count": null,
      "outputs": []
    },
    {
      "cell_type": "code",
      "source": [
        "word_string = ''.join(connected_words_train)\n",
        "unique_characters = set(word_string)\n",
        "unique_characters = sorted(unique_characters)\n",
        "print(\"Number of unique characters:\", len(unique_characters))\n",
        "print(unique_characters)"
      ],
      "metadata": {
        "id": "xVA7YHxWcR45"
      },
      "execution_count": null,
      "outputs": []
    },
    {
      "cell_type": "code",
      "source": [
        "word_string = ''.join(connected_words_val)\n",
        "unique_characters_val = set(word_string)\n",
        "unique_characters_val = sorted(unique_characters_val)\n",
        "print(\"Number of unique characters:\", len(unique_characters_val))\n",
        "print(unique_characters_val)"
      ],
      "metadata": {
        "id": "EP285lVVyatF"
      },
      "execution_count": null,
      "outputs": []
    },
    {
      "cell_type": "code",
      "source": [
        "letter_image_dict_train = {}\n",
        "\n",
        "for letter, image in zip(connected_words_train, segmented_letters_train):\n",
        "    letter_image_dict_train.setdefault(letter, []).append(image)"
      ],
      "metadata": {
        "id": "OZFLbYrJcT08"
      },
      "execution_count": null,
      "outputs": []
    },
    {
      "cell_type": "code",
      "source": [
        "plt.figure(figsize=(12, 6))\n",
        "\n",
        "for idx, (letter, images) in enumerate(letter_image_dict_train.items()):\n",
        "    for i, image in enumerate(images[:5]):\n",
        "        plt.subplot(5, len(letter_image_dict_train), i * len(letter_image_dict_train) + idx + 1)\n",
        "        plt.imshow(image, cmap='gray')\n",
        "        plt.title(f\"Letter: {letter}\")\n",
        "        plt.axis('off')\n",
        "\n",
        "plt.tight_layout()\n",
        "plt.show()"
      ],
      "metadata": {
        "id": "n5fYlRTUcVrq"
      },
      "execution_count": null,
      "outputs": []
    },
    {
      "cell_type": "code",
      "source": [
        "X_train = np.array(segmented_letters_train)\n",
        "X_train = np.expand_dims(X_train, axis=-1)\n",
        "X_train = np.repeat(X_train, 3, axis=-1)\n",
        "X_train = preprocess_input(X_train)"
      ],
      "metadata": {
        "id": "ArDREHyfcXcL"
      },
      "execution_count": null,
      "outputs": []
    },
    {
      "cell_type": "code",
      "source": [
        "X_val = np.array(segmented_letters_val)\n",
        "X_val = np.expand_dims(X_val, axis=-1)\n",
        "X_val = np.repeat(X_val, 3, axis=-1)\n",
        "X_val = preprocess_input(X_val)"
      ],
      "metadata": {
        "id": "NdeCv3WAyeVP"
      },
      "execution_count": null,
      "outputs": []
    },
    {
      "cell_type": "code",
      "source": [
        "numerical_values = [unique_characters.index(letter) for letter in connected_words_train]\n",
        "y_train = to_categorical(numerical_values, num_classes=len(unique_characters))"
      ],
      "metadata": {
        "id": "gvqbPJWLcZIc"
      },
      "execution_count": null,
      "outputs": []
    },
    {
      "cell_type": "code",
      "source": [
        "numerical_values = [unique_characters_val.index(letter) for letter in connected_words_val]\n",
        "y_val = to_categorical(numerical_values, num_classes=len(unique_characters_val))"
      ],
      "metadata": {
        "id": "81BbOm7Kyihn"
      },
      "execution_count": null,
      "outputs": []
    },
    {
      "cell_type": "code",
      "source": [
        "vgg_model = VGG16(weights='imagenet', include_top=False, input_shape=(32, 32, 3))"
      ],
      "metadata": {
        "id": "qsAvM0aPca0z"
      },
      "execution_count": null,
      "outputs": []
    },
    {
      "cell_type": "code",
      "source": [
        "for layer in vgg_model.layers:\n",
        "    layer.trainable = False"
      ],
      "metadata": {
        "id": "P9magjnQccnh"
      },
      "execution_count": null,
      "outputs": []
    },
    {
      "cell_type": "code",
      "source": [
        "model = Sequential()\n",
        "model.add(vgg_model)\n",
        "model.add(Flatten())\n",
        "model.add(Dense(128, activation='relu'))\n",
        "model.add(Dense(len(unique_characters), activation='softmax'))"
      ],
      "metadata": {
        "id": "tONm-CKvceiZ"
      },
      "execution_count": null,
      "outputs": []
    },
    {
      "cell_type": "code",
      "source": [
        "model.compile(optimizer=Adam(lr=0.0001), loss='categorical_crossentropy', metrics=['accuracy'], run_eagerly=True)"
      ],
      "metadata": {
        "id": "0_wO1ljjchQT"
      },
      "execution_count": null,
      "outputs": []
    },
    {
      "cell_type": "code",
      "source": [
        "# Train model\n",
        "history = model.fit(X_train, y_train, epochs=10, batch_size=32, validation_data=(X_val, y_val))"
      ],
      "metadata": {
        "id": "dnitbLfLckN_"
      },
      "execution_count": null,
      "outputs": []
    },
    {
      "cell_type": "code",
      "source": [
        "display_acc_graph(history)\n",
        "display_loss_graph(history)"
      ],
      "metadata": {
        "id": "xA5Cve5ocnCp"
      },
      "execution_count": null,
      "outputs": []
    },
    {
      "cell_type": "code",
      "source": [
        "df_test = pd.read_csv('/content/written_name_test_v2.csv')\n",
        "\n",
        "testNum = 10000\n",
        "word_list_test = df_train['IDENTITY'][:testNum]\n",
        "image_paths_test = load_image_paths_from_directory(test_dir, testNum)\n",
        "\n",
        "segmented_letters_test, connected_words_test = segment_letters_in_array(image_paths_test, word_list_test)\n",
        "\n",
        "word_string = ''.join(connected_words_test)\n",
        "unique_characters_test = set(word_string)\n",
        "unique_characters_test = sorted(unique_characters_test)\n",
        "print(\"Number of unique characters:\", len(unique_characters_test))\n",
        "print(unique_characters_test)\n",
        "\n",
        "X_test = np.array(segmented_letters_test)\n",
        "X_test = np.expand_dims(X_test, axis=-1)\n",
        "X_test = np.repeat(X_test, 3, axis=-1)\n",
        "X_test = preprocess_input(X_test)\n",
        "\n",
        "numerical_values = [unique_characters_test.index(letter) for letter in connected_words_test]\n",
        "y_test = to_categorical(numerical_values, num_classes=len(unique_characters_test))"
      ],
      "metadata": {
        "id": "BVADfAWAywdO"
      },
      "execution_count": null,
      "outputs": []
    },
    {
      "cell_type": "code",
      "source": [
        "predictions = model.predict(X_test)\n",
        "y_pred = np.argmax(predictions, axis=1)\n",
        "y_true = np.argmax(y_test, axis=1)\n",
        "\n",
        "accuracy = accuracy_score(y_true, y_pred)\n",
        "print(\"Accuracy:\", accuracy)\n",
        "\n",
        "conf_matrix = confusion_matrix(y_true, y_pred)\n",
        "\n",
        "plt.figure(figsize=(10, 8))\n",
        "sns.heatmap(conf_matrix, annot=True, fmt='d', cmap='Blues', xticklabels=unique_characters_test, yticklabels=unique_characters_test)\n",
        "plt.xlabel('Predicted labels')\n",
        "plt.ylabel('True labels')\n",
        "plt.title('Confusion Matrix')\n",
        "plt.show()"
      ],
      "metadata": {
        "id": "5qFXgriGyzNk"
      },
      "execution_count": null,
      "outputs": []
    }
  ]
}